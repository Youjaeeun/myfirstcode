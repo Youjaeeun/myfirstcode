{
  "nbformat": 4,
  "nbformat_minor": 0,
  "metadata": {
    "colab": {
      "provenance": [],
      "authorship_tag": "ABX9TyO2Zy78v0rVudfVcdw9D4cu",
      "include_colab_link": true
    },
    "kernelspec": {
      "name": "python3",
      "display_name": "Python 3"
    },
    "language_info": {
      "name": "python"
    }
  },
  "cells": [
    {
      "cell_type": "markdown",
      "metadata": {
        "id": "view-in-github",
        "colab_type": "text"
      },
      "source": [
        "<a href=\"https://colab.research.google.com/github/Youjaeeun/myfirstcode/blob/main/calender.ipynb\" target=\"_parent\"><img src=\"https://colab.research.google.com/assets/colab-badge.svg\" alt=\"Open In Colab\"/></a>"
      ]
    },
    {
      "cell_type": "code",
      "execution_count": 3,
      "metadata": {
        "colab": {
          "base_uri": "https://localhost:8080/"
        },
        "id": "LRGQicZiYwC-",
        "outputId": "a357fbac-b586-489d-8c56-5e069b761539"
      },
      "outputs": [
        {
          "output_type": "stream",
          "name": "stdout",
          "text": [
            "    October 2023\n",
            "Mo Tu We Th Fr Sa Su\n",
            "                   1\n",
            " 2  3  4  5  6  7  8\n",
            " 9 10 11 12 13 14 15\n",
            "16 17 18 19 20 21 22\n",
            "23 24 25 26 27 28 29\n",
            "30 31\n",
            "\n"
          ]
        }
      ],
      "source": [
        "import calendar\n",
        "yy = 2023     # year\n",
        "mm = 10       # month\n",
        "# display the calender\n",
        "print(calendar.month(yy,mm))\n"
      ]
    },
    {
      "cell_type": "code",
      "source": [],
      "metadata": {
        "id": "o9h1TEy_aqmz"
      },
      "execution_count": null,
      "outputs": []
    },
    {
      "cell_type": "markdown",
      "source": [
        "2023년 10월 19일 To Do List\n",
        "- 09:10~11:00 컴퓨팅적사고와 기초코딩\n",
        "- 11:10~12:00 아동건강교육\n",
        "- 12:10~13:00 점심식사\n",
        "- 14:00~18:00 시험공부\n",
        "- 18:10~19:00 저녁식사\n"
      ],
      "metadata": {
        "id": "GYVmUr-narz6"
      }
    },
    {
      "cell_type": "code",
      "source": [
        "print (\"09:10~11:00 컴퓨팅적사고와 기초코딩\")\n",
        "print (\"11:10~12:00 아동건강교육\")\n",
        "print (\"12:10~13:00 점심식사\")\n",
        "print (\"14:00~18:00 시험공부\")\n",
        "print(\"14:00~18:00 시험공부\")"
      ],
      "metadata": {
        "colab": {
          "base_uri": "https://localhost:8080/"
        },
        "id": "FtFZFpvzbCoi",
        "outputId": "978f2fd9-d676-47a5-a6bc-af55446010c9"
      },
      "execution_count": 4,
      "outputs": [
        {
          "output_type": "stream",
          "name": "stdout",
          "text": [
            "09:10~11:00 컴퓨팅적사고와 기초코딩\n",
            "11:10~12:00 아동건강교육\n",
            "12:10~13:00 점심식사\n",
            "14:00~18:00 시험공부\n",
            "14:00~18:00 시험공부\n"
          ]
        }
      ]
    }
  ]
}