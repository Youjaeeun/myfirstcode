{
  "nbformat": 4,
  "nbformat_minor": 0,
  "metadata": {
    "colab": {
      "provenance": [],
      "authorship_tag": "ABX9TyMKcrrHShX7UbZPT3o3OzVW",
      "include_colab_link": true
    },
    "kernelspec": {
      "name": "python3",
      "display_name": "Python 3"
    },
    "language_info": {
      "name": "python"
    }
  },
  "cells": [
    {
      "cell_type": "markdown",
      "metadata": {
        "id": "view-in-github",
        "colab_type": "text"
      },
      "source": [
        "<a href=\"https://colab.research.google.com/github/Youjaeeun/myfirstcode/blob/main/CTBA_1.ipynb\" target=\"_parent\"><img src=\"https://colab.research.google.com/assets/colab-badge.svg\" alt=\"Open In Colab\"/></a>"
      ]
    },
    {
      "cell_type": "markdown",
      "source": [
        "1. 쇼핑몰의 배송료를 계산하는 코드작성\n",
        " - 사용하는 변수 : price, shopping_cost"
      ],
      "metadata": {
        "id": "IHqkTxk4bTCp"
      }
    },
    {
      "cell_type": "code",
      "source": [
        "print(\"상품의 가격을 입력하시오.\")  # 사용자에게 상품 가격을 입력하라는 안내 메시지를 출력합니다.\n",
        "price = int(input(\"구입금액 입력: \"))  # 사용자로부터 구입 금액을 입력받아 정수로 변환하여 변수 price에 저장합니다.\n",
        "\n",
        "if price > 20000:  # 만약 구입 금액이 2만원보다 크다면\n",
        "  shopping_cost = 0  # 배송비를 0으로 설정합니다.\n",
        "  print(f'구입금액이 2만원 이하입니다.')  # 구입 금액이 2만원 이하임을 안내하는 메시지를 출력합니다.\n",
        "else:\n",
        "  shopping_cost = 3000  # 구입 금액이 2만원 이하라면 배송비를 3000으로 설정합니다.\n",
        "  print(f'구입금액이 2만원 이하입니다.')  # 구입 금액이 2만원 이하임을 안내하는 메시지를 출력합니다.\n",
        "\n",
        "print(f'회원님의 배송비는 {shopping_cost}원 입니다.')  # 구매자의 배송비 정보를 출력합니다."
      ],
      "metadata": {
        "colab": {
          "base_uri": "https://localhost:8080/"
        },
        "id": "s_4QDXcUcxB5",
        "outputId": "a768b372-b141-4f78-cc99-9c405005c582"
      },
      "execution_count": null,
      "outputs": [
        {
          "output_type": "stream",
          "name": "stdout",
          "text": [
            "상품의 가격을 입력하시오.\n",
            "구입금액 입력: 19900\n",
            "구입금액이 2만원 이하입니다.\n",
            "회원님의 배송비는3000원 입니다.\n"
          ]
        }
      ]
    },
    {
      "cell_type": "markdown",
      "source": [
        "위 코드는 사용자로부터 상품 가격을 입력받아 구입 금액에 따라 배송비를 계산하는 코드입니다.\n",
        "\n",
        "1. 사용자에게 상품 가격을 입력하라는 안내 메시지를 출력합니다.\n",
        "2. 사용자로부터 구입 금액을 입력받아 정수로 변환하여 `price` 변수에 저장합니다.\n",
        "3. 만약 구입 금액이 2만원보다 크다면 배송비 `shopping_cost`를 0으로 설정하고, 구입 금액이 2만원 이하임을 안내하는 메시지를 출력합니다.\n",
        "4. 그렇지 않으면 배송비 `shopping_cost`를 3000으로 설정하고, 구입 금액이 2만원 이하임을 안내하는 메시지를 출력합니다.\n",
        "5. 구매자의 배송비 정보를 출력합니다.."
      ],
      "metadata": {
        "id": "zkOQ-BDurkuF"
      }
    },
    {
      "cell_type": "markdown",
      "source": [
        "2. 학생으로부터 성적을 입력받아 합격유무를 출력하는 코드\n",
        " - 사용변수: grade"
      ],
      "metadata": {
        "id": "pM5oxcJ2grNP"
      }
    },
    {
      "cell_type": "code",
      "source": [
        "print(\"성적을 입력하시오.\")  # 사용자에게 성적을 입력하라는 안내 메시지를 출력합니다.\n",
        "grade = int(input(\"성적입력: \"))  # 사용자로부터 성적을 입력받아 정수로 변환하여 변수 grade에 저장합니다.\n",
        "\n",
        "if grade >= 70:  # 만약 성적이 70점 이상이라면\n",
        "  print('70점 이상이므로 합격입니다.')  # 성적이 70점 이상이므로 합격임을 안내하는 메시지를 출력합니다.\n",
        "  print(\"축하합니다. 합격입니다.\")  # 합격을 축하하는 메시지를 출력합니다.\n",
        "else:\n",
        "  print('70점 이하이므로 불합격입니다.')  # 성적이 70점 이하이므로 불합격임을 안내하는 메시지를 출력합니다.\n",
        "  print(\"아쉽군요. 다시한번 도전해보세요.\")  # 다시 도전을 장려하는 메시지를 출력합니다."
      ],
      "metadata": {
        "colab": {
          "base_uri": "https://localhost:8080/"
        },
        "id": "WM5AwyUBhHQ1",
        "outputId": "b4b91756-6f72-4ca2-9149-b78f61e3fba0"
      },
      "execution_count": null,
      "outputs": [
        {
          "output_type": "stream",
          "name": "stdout",
          "text": [
            "성적을 입력하시오.\n",
            "성적입력: 71\n",
            "70점 이상이므로 합격입니다.\n",
            "축하합니다. 합격입니다.\n"
          ]
        }
      ]
    },
    {
      "cell_type": "markdown",
      "source": [
        "위 코드는 사용자로부터 성적을 입력받아 70점 이상인지를 판별하고, 그에 따라 합격 또는 불합격 메시지를 출력하는 코드입니다.\n",
        "사용자에게 성적을 입력하라는 안내 메시지를 출력합니다.\n",
        "사용자로부터 성적을 입력받아 정수로 변환하여 grade 변수에 저장합니다.\n",
        "만약 성적이 70점 이상이라면 성적이 70점 이상이므로 합격임을 안내하는 메시지와 축하 메시지를 출력합니다.\n",
        "그렇지 않으면 성적이 70점 이하이므로 불합격임을 안내하는 메시지와 도전 장려 메시지를 출력합니다."
      ],
      "metadata": {
        "id": "Se-IR4Srr8lY"
      }
    },
    {
      "cell_type": "markdown",
      "source": [
        "3. 근무시간에 따라 초과근무와 정상근무를 판별하는 코드\n",
        " - work_hour\n",
        " - zhem work_hour > 72"
      ],
      "metadata": {
        "id": "lSWGjcdJiS6s"
      }
    },
    {
      "cell_type": "code",
      "source": [
        "print(\"근무시간을 입력하시오.\")  # 사용자에게 근무시간을 입력하라는 안내 메시지를 출력합니다.\n",
        "work_hour = int(input(\"근무시간 입력: \"))  # 사용자로부터 근무시간을 입력받아 정수로 변환하여 변수 work_hour에 저장합니다.\n",
        "\n",
        "if work_hour > 72:  # 만약 근무시간이 72시간을 초과한다면\n",
        "  print(\"_\"*9)  # 밑줄을 9번 출력합니다.\n",
        "  print(f'｜ 초과근무입니다. ｜')  # \"초과근무입니다.\"라는 메시지를 가운데 정렬하여 출력합니다.\n",
        "  print(\"￣\"*9)  # 물결표시를 9번 출력합니다.\n",
        "else:\n",
        "  print(\"#\"*9)  # 샵(#)을 9번 출력합니다.\n",
        "  print(f'# 정상근무입니다. #')  # \"정상근무입니다.\"라는 메시지를 가운데 정렬하여 출력합니다.\n",
        "  print(\"#\"*9)  # 샵(#)을 9번 출력합니다.\n"
      ],
      "metadata": {
        "colab": {
          "base_uri": "https://localhost:8080/"
        },
        "id": "nuhQZvTjiiav",
        "outputId": "d7707156-27ac-4d70-f387-d6f980ed9806"
      },
      "execution_count": null,
      "outputs": [
        {
          "output_type": "stream",
          "name": "stdout",
          "text": [
            "근무시간을 입력하시오.\n",
            "근무시간 입력: 73\n",
            "_________\n",
            "｜ 초과근무입니다. ｜\n",
            "￣￣￣￣￣￣￣￣￣\n"
          ]
        }
      ]
    },
    {
      "cell_type": "markdown",
      "source": [
        "위 코드는 사용자로부터 근무시간을 입력받아, 근무시간이 72시간을 초과하는지를 판별하고, 그에 따라 초과근무 또는 정상근무 메시지를 출력하는 코드입니다.\n",
        "사용자에게 근무시간을 입력하라는 안내 메시지를 출력합니다.\n",
        "사용자로부터 근무시간을 입력받아 정수로 변환하여 work_hour 변수에 저장합니다.\n",
        "만약 근무시간이 72시간을 초과한다면 밑줄을 9번 출력하고, \"초과근무입니다.\"라는 메시지를 가운데 정렬하여 출력합니다.\n",
        "그렇지 않으면 샵(#)을 9번 출력하고, \"정상근무입니다.\"라는 메시지를 가운데 정렬하여 출력합니다."
      ],
      "metadata": {
        "id": "VFUBMfFbsQT4"
      }
    },
    {
      "cell_type": "markdown",
      "source": [
        "4. 짝수와 홀수를 판별하는 코드\n",
        " - 시용변수 : _ num _\n",
        " - 수식 : (x % 2) != 0:"
      ],
      "metadata": {
        "id": "2ttesIIsl5Gd"
      }
    },
    {
      "cell_type": "code",
      "source": [
        "print(\"정수를 입력하시오.\")  # 사용자에게 정수를 입력하라는 안내 메시지를 출력합니다.\n",
        "_num_ = int(input(\"정수 입력.: \"))  # 사용자로부터 정수를 입력받아 정수로 변환하여 변수 _num_에 저장합니다.\n",
        "\n",
        "if (_num_ % 2) != 0:  # 만약 _num_을 2로 나눈 나머지가 0이 아니라면 (즉, 홀수라면)\n",
        "  print(f'입력하신 {_num_}은 홀수입니다.')  # 입력한 정수가 홀수임을 알리는 메시지를 출력합니다.\n",
        "else:\n",
        "  print(f'입력하신 {_num_}은 짝수입니다.')  # 입력한 정수가 짝수임을 알리는 메시지를 출력합니다.\n"
      ],
      "metadata": {
        "id": "jeao2kdtmWJA"
      },
      "execution_count": null,
      "outputs": []
    },
    {
      "cell_type": "markdown",
      "source": [
        "사용자에게 정수를 입력하라는 안내 메시지를 출력합니다.\n",
        "사용자로부터 정수를 입력받아 정수로 변환하여 _num_ 변수에 저장합니다.\n",
        "만약 _num_을 2로 나눈 나머지가 0이 아니라면 (즉, 홀수라면) 입력한 정수가 홀수임을 알리는 메시지를 출력합니다.\n",
        "그렇지 않으면 입력한 정수가 짝수임을 알리는 메시지를 출력합니다."
      ],
      "metadata": {
        "id": "XBKs3fYssej7"
      }
    },
    {
      "cell_type": "markdown",
      "source": [
        "5. 사용자의 이름과 나이를 물어보고, 답변하는 코드\n",
        " - 사용변수: name, age\n",
        " - 출력할 내용:\n",
        "  -성명\n",
        "  -나이: 20\n",
        "  - (1) 20이하: 프로그래밍을 배우는 최적의 나이입니다.\n",
        "  - (2) 20이상: 아직도 늦지 않았습니다."
      ],
      "metadata": {
        "id": "-km2c1SpnP_P"
      }
    },
    {
      "cell_type": "code",
      "source": [
        "print(\"사용자의 이름을 입력하시오.\")  # 사용자에게 이름을 입력하라는 안내 메시지를 출력합니다.\n",
        "print(\"사용자의 나이를 입력하시오.\")  # 사용자에게 나이를 입력하라는 안내 메시지를 출력합니다.\n",
        "name = (input(\"이름 입력.: \"))  # 사용자로부터 이름을 입력받아 변수 name에 저장합니다.\n",
        "age = int(input(\"나이 입력.: \"))  # 사용자로부터 나이를 입력받아 정수로 변환하여 변수 age에 저장합니다.\n",
        "\n",
        "if age < 20:  # 만약 나이가 20보다 작다면\n",
        "  print(f'아직도 늦지 않았습니다.')  # 아직도 늦지 않았음을 알리는 메시지를 출력합니다.\n",
        "else:\n",
        "  print(f'프로그래밍을 배우는 최적의 나이입니다.')  # 프로그래밍을 배우는 최적의 나이임을 알리는 메시지를 출력\n"
      ],
      "metadata": {
        "colab": {
          "base_uri": "https://localhost:8080/"
        },
        "id": "mi4Mb6Q9oG1A",
        "outputId": "9afe8d52-e4da-46c6-a3c8-dc3f31bea409"
      },
      "execution_count": null,
      "outputs": [
        {
          "output_type": "stream",
          "name": "stdout",
          "text": [
            "사용자의 이름을 입력하시오.\n",
            "사용자의 나이를 입력하시오.\n",
            "이름 입력.: 유재은\n",
            "나이 입력.: 20\n",
            "프로그래밍을 배우는 최적의 나이입니다.\n"
          ]
        }
      ]
    },
    {
      "cell_type": "markdown",
      "source": [
        "위 코드는 사용자로부터 이름과 나이를 입력받고, 나이에 따라 메시지를 출력하는 코드입니다.\n",
        "사용자에게 이름을 입력하라는 안내 메시지를 출력합니다.\n",
        "사용자에게 나이를 입력하라는 안내 메시지를 출력합니다.\n",
        "사용자로부터 이름을 입력받아 name 변수에 저장합니다.\n",
        "사용자로부터 나이를 입력받아 정수로 변환하여 age 변수에 저장합니다.\n",
        "만약 나이가 20보다 작다면 \"아직도 늦지 않았습니다.\"라는 메시지를 출력합니다.\n",
        "그렇지 않으면 \"프로그래밍을 배우는 최적의 나이입니다.\"라는 메시지를 출력합니다."
      ],
      "metadata": {
        "id": "zPd_cXI9smNQ"
      }
    }
  ]
}