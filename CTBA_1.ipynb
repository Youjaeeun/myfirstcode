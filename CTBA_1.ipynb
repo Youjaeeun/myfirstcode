{
  "nbformat": 4,
  "nbformat_minor": 0,
  "metadata": {
    "colab": {
      "provenance": [],
      "authorship_tag": "ABX9TyOBdoqNx3M2Kx8/0CLR61Y2",
      "include_colab_link": true
    },
    "kernelspec": {
      "name": "python3",
      "display_name": "Python 3"
    },
    "language_info": {
      "name": "python"
    }
  },
  "cells": [
    {
      "cell_type": "markdown",
      "metadata": {
        "id": "view-in-github",
        "colab_type": "text"
      },
      "source": [
        "<a href=\"https://colab.research.google.com/github/Youjaeeun/myfirstcode/blob/main/CTBA_1.ipynb\" target=\"_parent\"><img src=\"https://colab.research.google.com/assets/colab-badge.svg\" alt=\"Open In Colab\"/></a>"
      ]
    },
    {
      "cell_type": "markdown",
      "source": [
        "1. 쇼핑몰의 배송료를 계산하는 코드작성\n",
        " - 사용하는 변수 : price, shopping_cost"
      ],
      "metadata": {
        "id": "IHqkTxk4bTCp"
      }
    },
    {
      "cell_type": "code",
      "source": [
        "print(\"상품의 가격을 입력하시오.\")\n",
        "price = int(input(\"구입금액 입력: \"))\n",
        "if price > 20000:\n",
        "  shopping_cost = 0\n",
        "  print(f'구입금액이 2만원 이하입니다.')\n",
        "else:\n",
        "  shopping_cost = 3000\n",
        "  print(f'구입금액이 2만원 이하입니다.')\n",
        "print(f'회원님의 배송비는 {shopping_cost}원 입니다.')"
      ],
      "metadata": {
        "colab": {
          "base_uri": "https://localhost:8080/"
        },
        "id": "s_4QDXcUcxB5",
        "outputId": "a768b372-b141-4f78-cc99-9c405005c582"
      },
      "execution_count": 1,
      "outputs": [
        {
          "output_type": "stream",
          "name": "stdout",
          "text": [
            "상품의 가격을 입력하시오.\n",
            "구입금액 입력: 19900\n",
            "구입금액이 2만원 이하입니다.\n",
            "회원님의 배송비는3000원 입니다.\n"
          ]
        }
      ]
    },
    {
      "cell_type": "markdown",
      "source": [
        "2. 학생으로부터 성적을 입력받아 합격유무를 출력하는 코드\n",
        " - 사용변수: grade"
      ],
      "metadata": {
        "id": "pM5oxcJ2grNP"
      }
    },
    {
      "cell_type": "code",
      "source": [
        "print(\"성적을 입력하시오.\")\n",
        "grade = int(input(\"성적입력: \"))\n",
        "if grade >=70:\n",
        "  print('70점 이상이므로 합격입니다.')\n",
        "  print(\"축하합니다. 합격입니다.\")\n",
        "else:\n",
        "  print('70점 이하이므로 불합격입니다.')\n",
        "  print(\"아쉽군요. 다시한번 도전해보세요.\")"
      ],
      "metadata": {
        "colab": {
          "base_uri": "https://localhost:8080/"
        },
        "id": "WM5AwyUBhHQ1",
        "outputId": "b4b91756-6f72-4ca2-9149-b78f61e3fba0"
      },
      "execution_count": 3,
      "outputs": [
        {
          "output_type": "stream",
          "name": "stdout",
          "text": [
            "성적을 입력하시오.\n",
            "성적입력: 71\n",
            "70점 이상이므로 합격입니다.\n",
            "축하합니다. 합격입니다.\n"
          ]
        }
      ]
    },
    {
      "cell_type": "markdown",
      "source": [
        "3. 근무시간에 따라 초과근무와 정상근무를 판별하는 코드\n",
        " - work_hour\n",
        " - zhem work_hour > 72"
      ],
      "metadata": {
        "id": "lSWGjcdJiS6s"
      }
    },
    {
      "cell_type": "code",
      "source": [
        "print(\"근무시간을 입력하시오.\")\n",
        "work_hour = int(input(\"근무시간 입력: \"))\n",
        "if work_hour > 72:\n",
        "  print(\"_\"*9)\n",
        "  print(f'｜ 초과근무입니다. ｜')\n",
        "  print(\"￣\"*9)\n",
        "else:\n",
        "  print(\"#\"*9)\n",
        "  print(f'# 정상근무입니다. #')\n",
        "  print(\"#\"*9)"
      ],
      "metadata": {
        "colab": {
          "base_uri": "https://localhost:8080/"
        },
        "id": "nuhQZvTjiiav",
        "outputId": "d7707156-27ac-4d70-f387-d6f980ed9806"
      },
      "execution_count": 9,
      "outputs": [
        {
          "output_type": "stream",
          "name": "stdout",
          "text": [
            "근무시간을 입력하시오.\n",
            "근무시간 입력: 73\n",
            "_________\n",
            "｜ 초과근무입니다. ｜\n",
            "￣￣￣￣￣￣￣￣￣\n"
          ]
        }
      ]
    },
    {
      "cell_type": "markdown",
      "source": [
        "4. 짝수와 홀수를 판별하는 코드\n",
        " - 시용변수 : _ num _\n",
        " - 수식 : (x % 2) != 0:"
      ],
      "metadata": {
        "id": "2ttesIIsl5Gd"
      }
    },
    {
      "cell_type": "code",
      "source": [
        "print(\"정수를 입력하시오.\")\n",
        "_num_ = int(input(\"정수 입력.: \"))\n",
        "if (_num_ % 2) != 0:\n",
        "  print(f'입력하신 {_num_}은 홀수입니다.')\n",
        "else:\n",
        "  print(f'입력하신 {_num_}은 짝수입니다.')"
      ],
      "metadata": {
        "id": "jeao2kdtmWJA"
      },
      "execution_count": null,
      "outputs": []
    },
    {
      "cell_type": "markdown",
      "source": [
        "5. 사용자의 이름과 나이를 물어보고, 답변하는 코드\n",
        " - 사용변수: name, age\n",
        " - 출력할 내용:\n",
        "  -성명\n",
        "  -나이: 20\n",
        "  - (1) 20이하: 프로그래밍을 배우는 최적의 나이입니다.\n",
        "  - (2) 20이상: 아직도 늦지 않았습니다."
      ],
      "metadata": {
        "id": "-km2c1SpnP_P"
      }
    },
    {
      "cell_type": "code",
      "source": [
        "print(\"사용자의 이름을 입력하시오.\")\n",
        "print(\"사용자의 나이를 입력하시오.\")\n",
        "name = (input(\"이름 입력.: \"))\n",
        "age = int(input(\"나이 입력.: \"))\n",
        "if age < 20:\n",
        "  print(f'아직도 늦지 않았습니다.')\n",
        "else:\n",
        "  print(f'프로그래밍을 배우는 최적의 나이입니다.')"
      ],
      "metadata": {
        "colab": {
          "base_uri": "https://localhost:8080/"
        },
        "id": "mi4Mb6Q9oG1A",
        "outputId": "9afe8d52-e4da-46c6-a3c8-dc3f31bea409"
      },
      "execution_count": 11,
      "outputs": [
        {
          "output_type": "stream",
          "name": "stdout",
          "text": [
            "사용자의 이름을 입력하시오.\n",
            "사용자의 나이를 입력하시오.\n",
            "이름 입력.: 유재은\n",
            "나이 입력.: 20\n",
            "프로그래밍을 배우는 최적의 나이입니다.\n"
          ]
        }
      ]
    }
  ]
}