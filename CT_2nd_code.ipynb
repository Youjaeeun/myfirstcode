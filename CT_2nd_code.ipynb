{
  "nbformat": 4,
  "nbformat_minor": 0,
  "metadata": {
    "colab": {
      "provenance": [],
      "authorship_tag": "ABX9TyMP4sudLxxRB2Zi/51G1bdM",
      "include_colab_link": true
    },
    "kernelspec": {
      "name": "python3",
      "display_name": "Python 3"
    },
    "language_info": {
      "name": "python"
    }
  },
  "cells": [
    {
      "cell_type": "markdown",
      "metadata": {
        "id": "view-in-github",
        "colab_type": "text"
      },
      "source": [
        "<a href=\"https://colab.research.google.com/github/Youjaeeun/myfirstcode/blob/main/CT_2nd_code.ipynb\" target=\"_parent\"><img src=\"https://colab.research.google.com/assets/colab-badge.svg\" alt=\"Open In Colab\"/></a>"
      ]
    },
    {
      "cell_type": "code",
      "execution_count": 2,
      "metadata": {
        "colab": {
          "base_uri": "https://localhost:8080/",
          "height": 147
        },
        "id": "9ZQMZu7gltBB",
        "outputId": "aaf4f74c-68b5-4a45-dc56-46e76b007938"
      },
      "outputs": [
        {
          "output_type": "error",
          "ename": "SyntaxError",
          "evalue": "ignored",
          "traceback": [
            "\u001b[0;36m  File \u001b[0;32m\"<ipython-input-2-2540cc3674a2>\"\u001b[0;36m, line \u001b[0;32m1\u001b[0m\n\u001b[0;31m    2. 사용자로부터 3개의 변수를 입력받아서 합을 구하고, 평균을 구하는 코드\u001b[0m\n\u001b[0m              ^\u001b[0m\n\u001b[0;31mSyntaxError\u001b[0m\u001b[0;31m:\u001b[0m invalid decimal literal\n"
          ]
        }
      ],
      "source": [
        " 2. 사용자로부터 3개의 변수를 입력받아서 합을 구하고, 평균을 구하는 코드\n",
        "- 변수는:n1,n2,n3,total,average"
      ]
    },
    {
      "cell_type": "markdown",
      "source": [
        "2. 사용자로부터 3개의 변수를 입력 받아서 합을 구하고, 평균을 구하는 코드\n",
        " - 변수는:n1,n2,n3,total,average"
      ],
      "metadata": {
        "id": "tzoTSm4ZoOvO"
      }
    },
    {
      "cell_type": "markdown",
      "source": [],
      "metadata": {
        "id": "Bq02YZOzoLkF"
      }
    },
    {
      "cell_type": "code",
      "source": [
        "n1=int(input(\"n1의 값을 입력하시오.:\"))\n",
        "n2=int(input(\"n2의 값을 입력하시오.:\"))\n",
        "n3=int(input(\"n3의 값을 입력하시오.:\"))\n",
        "total=n1+n2+n3\n",
        "print('합계는:',total)\n",
        "average=total/3\n",
        "print('평균은:',average)"
      ],
      "metadata": {
        "colab": {
          "base_uri": "https://localhost:8080/"
        },
        "id": "RdsQ41LlnsCH",
        "outputId": "09c6353a-56e5-4574-9bda-7fead49cbb93"
      },
      "execution_count": 4,
      "outputs": [
        {
          "output_type": "stream",
          "name": "stdout",
          "text": [
            "n1의 값을 입력하시오.:50\n",
            "n2의 값을 입력하시오.:60\n",
            "n3의 값을 입력하시오.:70\n",
            "합계는: 180\n",
            "평균은: 60.0\n"
          ]
        }
      ]
    }
  ]
}