{
  "nbformat": 4,
  "nbformat_minor": 0,
  "metadata": {
    "colab": {
      "provenance": [],
      "authorship_tag": "ABX9TyMrctQMVB8IIH9fOiqmo0eM",
      "include_colab_link": true
    },
    "kernelspec": {
      "name": "python3",
      "display_name": "Python 3"
    },
    "language_info": {
      "name": "python"
    }
  },
  "cells": [
    {
      "cell_type": "markdown",
      "metadata": {
        "id": "view-in-github",
        "colab_type": "text"
      },
      "source": [
        "<a href=\"https://colab.research.google.com/github/Youjaeeun/myfirstcode/blob/main/FirstCode.ipynb\" target=\"_parent\"><img src=\"https://colab.research.google.com/assets/colab-badge.svg\" alt=\"Open In Colab\"/></a>"
      ]
    },
    {
      "cell_type": "markdown",
      "source": [
        "1.나의 생애 첫번째 코드"
      ],
      "metadata": {
        "id": "y5o-kW0zICtG"
      }
    },
    {
      "cell_type": "code",
      "execution_count": null,
      "metadata": {
        "colab": {
          "base_uri": "https://localhost:8080/"
        },
        "id": "p39LW511FsUR",
        "outputId": "4eb51c81-fb99-4297-aa54-32864d46ec8c"
      },
      "outputs": [
        {
          "output_type": "stream",
          "name": "stdout",
          "text": [
            "hello world!\n"
          ]
        }
      ],
      "source": [
        "print(\"hello world!\")  # \"hello world!\"라는 문자열을 출력하는 코드입니다."
      ]
    },
    {
      "cell_type": "markdown",
      "source": [
        "주신 코드 print(\"hello world!\")는 \"hello world!\"라는 문자열을 출력하는 코드입니다. print() 함수를 사용하여 괄호 안에 있는 값을 화면에 출력할 수 있습니다. 따라서 이 코드를 실행하면 \"hello world!\"가 출력됩니다."
      ],
      "metadata": {
        "id": "hDVtrI0gcchn"
      }
    },
    {
      "cell_type": "markdown",
      "source": [
        "2. 두번째 코딩"
      ],
      "metadata": {
        "id": "TI9Rez5DKa7X"
      }
    },
    {
      "cell_type": "code",
      "source": [
        "print(5+5, 6-2, 4*5, 6/2)  # 숫자 연산을 수행하고 그 결과를 출력하는 코드입니다."
      ],
      "metadata": {
        "colab": {
          "base_uri": "https://localhost:8080/"
        },
        "id": "ddTLkYMfLDo1",
        "outputId": "df1cb21f-cd71-4127-abcd-0c6242829abf"
      },
      "execution_count": null,
      "outputs": [
        {
          "output_type": "stream",
          "name": "stdout",
          "text": [
            "10 4 20 3.0\n"
          ]
        }
      ]
    },
    {
      "cell_type": "markdown",
      "source": [
        "주신 코드 print(5+5, 6-2, 4*5, 6/2)는 여러 개의 수식을 계산하고 그 결과를 출력하는 코드입니다. 각각의 수식이 쉼표로 구분되어 있으므로 print() 함수는 각 수식의 결과를 공백으로 구분하여 출력합니다.\n",
        "\n",
        "5+5: 이 수식은 숫자 5와 5를 더한 결과인 10을 나타냅니다.\n",
        "6-2: 이 수식은 숫자 6에서 2를 뺀 결과인 4를 나타냅니다.\n",
        "4*5: 이 수식은 숫자 4와 5를 곱한 결과인 20을 나타냅니다.\n",
        "6/2: 이 수식은 숫자 6을 2로 나눈 결과인 3을 나타냅니다.\n",
        "따라서 위 코드를 실행하면 \"10 4 20 3\"이라는 결과가 출력됩니다."
      ],
      "metadata": {
        "id": "O7Zh2QkScqkZ"
      }
    }
  ]
}