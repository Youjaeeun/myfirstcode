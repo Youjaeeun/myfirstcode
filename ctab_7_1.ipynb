{
  "nbformat": 4,
  "nbformat_minor": 0,
  "metadata": {
    "colab": {
      "provenance": [],
      "authorship_tag": "ABX9TyOrX/DfgKp0F7F0HZd3iR6k",
      "include_colab_link": true
    },
    "kernelspec": {
      "name": "python3",
      "display_name": "Python 3"
    },
    "language_info": {
      "name": "python"
    }
  },
  "cells": [
    {
      "cell_type": "markdown",
      "metadata": {
        "id": "view-in-github",
        "colab_type": "text"
      },
      "source": [
        "<a href=\"https://colab.research.google.com/github/Youjaeeun/myfirstcode/blob/main/ctab_7_1.ipynb\" target=\"_parent\"><img src=\"https://colab.research.google.com/assets/colab-badge.svg\" alt=\"Open In Colab\"/></a>"
      ]
    },
    {
      "cell_type": "markdown",
      "source": [
        "1. 일한 시간과 시급을 계산하여 출력하는 코드\n",
        " - 일한시간(hour_worked)\n",
        " - 일한날짜(day_worked)\n",
        " - 시급(pay_rate)\n",
        " - 월급(monthly_pay)\n",
        "\n",
        "\n"
      ],
      "metadata": {
        "id": "EHCMduI2ntg4"
      }
    },
    {
      "cell_type": "code",
      "source": [
        "hours_worked = int(input(\"일한 시간을 입력하시오.:\"))  # 사용자로부터 일한 시간을 입력받아 정수로 변환하여 변수 hours_worked에 저장합니다.\n",
        "pay_rate = int(input(\"시급을 입력하시오.(23년 시급 9620): \"))  # 사용자로부터 시급을 입력받아 정수로 변환하여 변수 pay_rate에 저장합니다.\n",
        "day_worked = int(input(\"일한 시간을 입력하시오.:\"))  # 사용자로부터 일한 날 수를 입력받아 정수로 변환하여 변수 day_worked에 저장합니다.\n",
        "\n",
        "day_month = hours_worked * pay_rate  # 하루의 급여를 계산하기 위해 일한 시간과 시급을 곱하여 변수 day_month에 저장합니다.\n",
        "monthly_pay = hours_worked * pay_rate * day_worked  # 월급여를 계산하기 위해 하루의 급여와 일한 날 수를 곱하여 변수 monthly_pay에 저장합니다.\n",
        "\n",
        "print(f'일한시간은 {hours_worked}시간 이며, 시급은 {pay_rate}원 이고, 월급여는 {monthly_pay}입니다.')  # 일한 시간, 시급, 월급여 정보를 출력합니다."
      ],
      "metadata": {
        "colab": {
          "base_uri": "https://localhost:8080/"
        },
        "id": "k_23C_VEpFEr",
        "outputId": "b04b054c-06cc-4636-99ba-9f3156b383d4"
      },
      "execution_count": null,
      "outputs": [
        {
          "output_type": "stream",
          "name": "stdout",
          "text": [
            "일한 시간을 입력하시오.:10\n",
            "시급을 입력하시오.(23년 시급 9620): 9620\n",
            "일한 시간을 입력하시오.:25\n",
            "일한시간은 10시간 이며, 시급은 9620원 이고, 월급여는 2405000입니다.\n"
          ]
        }
      ]
    },
    {
      "cell_type": "markdown",
      "source": [
        "위 코드는 사용자로부터 일한 시간, 시급, 일한 날 수를 입력받아 하루의 급여와 월급여를 계산하고 출력하는 코드입니다.\n",
        "\n",
        "사용자에게 일한 시간을 입력하라는 안내 메시지를 출력합니다.\n",
        "사용자로부터 일한 시간을 입력받아 정수로 변환하여 hours_worked 변수에 저장합니다.\n",
        "사용자에게 시급을 입력하라는 안내 메시지를 출력합니다.\n",
        "사용자로부터 시급을 입력받아 정수로 변환하여 pay_rate 변수에 저장합니다.\n",
        "사용자에게 일한 날 수를 입력하라는 안내 메시지를 출력합니다.\n",
        "사용자로부터 일한 날 수를 입력받아 정수로 변환하여 day_worked 변수에 저장합니다.\n",
        "하루의 급여를 계산하기 위해 일한 시간과 시급을 곱하여 day_month 변수에 저장합니다.\n",
        "월급여를 계산하기 위해 하루의 급여와 일한 날 수를 곱하여 monthly_pay 변수에 저장합니다.\n",
        "일한 시간, 시급, 월급여 정보를 출력합니다."
      ],
      "metadata": {
        "id": "PYyM4_UttJCk"
      }
    },
    {
      "cell_type": "markdown",
      "source": [
        "2. 환전하는 코드를 작성\n",
        " - 변수 won, usd, exchange\n",
        " - 계산 won * usd"
      ],
      "metadata": {
        "id": "roIuueCuunSs"
      }
    },
    {
      "cell_type": "code",
      "source": [
        "usd = int(input(\"환전할 달러를 입력: \"))  # 사용자로부터 환전할 달러 금액을 입력받아 정수로 변환하여 변수 usd에 저장합니다.\n",
        "won = int(input(\"달러의 환율금액 입력 (231031: 1372원)\"))  # 사용자로부터 달러의 환율 금액을 입력받아 정수로 변환하여 변수 won에 저장합니다.\n",
        "\n",
        "exchange = won * usd  # 환전할 달러 금액과 환율을 곱하여 변수 exchange에 저장합니다.\n",
        "\n",
        "print(f'환전하고 싶은 {usd}달러는 환율 {won}으로 계산해서, {exchange}원입니다.')  # 환전하고자 하는 달러와 환율, 그리고 환전된 원화 금액을 출력합니다."
      ],
      "metadata": {
        "colab": {
          "base_uri": "https://localhost:8080/"
        },
        "id": "V5cWoh7_vBbu",
        "outputId": "8de751d2-da1a-4b0b-d5e6-17be990323d5"
      },
      "execution_count": null,
      "outputs": [
        {
          "output_type": "stream",
          "name": "stdout",
          "text": [
            "환전할 달러를 입력: 500\n",
            "달러의 환율금액 입력 (231031: 1372원)1372\n",
            "환전하고 싶은 500달러는 환율 1372으로 계산해서, 686000원입니다.\n"
          ]
        }
      ]
    },
    {
      "cell_type": "markdown",
      "source": [
        "위 코드는 사용자로부터 환전할 달러 금액과 달러의 환율을 입력받아 원화로 환전된 금액을 계산하고 출력하는 코드입니다.\n",
        "\n",
        "사용자에게 환전할 달러 금액을 입력하라는 안내 메시지를 출력합니다.\n",
        "사용자로부터 환전할 달러 금액을 입력받아 정수로 변환하여 usd 변수에 저장합니다.\n",
        "사용자에게 달러의 환율 금액을 입력하라는 안내 메시지를 출력합니다.\n",
        "사용자로부터 달러의 환율 금액을 입력받아 정수로 변환하여 won 변수에 저장합니다.\n",
        "환전할 달러 금액과 환율을 곱하여 exchange 변수에 저장합니다.\n",
        "환전하고자 하는 달러와 환율, 그리고 환전된 원화 금액을 출력합니다."
      ],
      "metadata": {
        "id": "IwpEXCQbtj3s"
      }
    },
    {
      "cell_type": "markdown",
      "source": [
        "3. 화씨를 섭씨로 섭씨를 화씨로 변경하는 코드\n",
        " - 화씨를 섭씨로 ℉ = ℃ * 1.8 + 32\n",
        " - 섭씨를 화씨로 ℃ = (℉ - 32) / 1.8\n",
        " - 변수 : 화씨 fahrenheit, 섭씨 celsius"
      ],
      "metadata": {
        "id": "5pU5b1fKyNbu"
      }
    },
    {
      "cell_type": "code",
      "source": [
        "fahrenheit = int(input(\"화씨를 입력하시오.: \"))  # 사용자로부터 화씨 온도를 입력받아 정수로 변환하여 변수 fahrenheit에 저장합니다.\n",
        "\n",
        "celsius = (fahrenheit - 32) / 1.8  # 입력받은 화씨 온도를 섭씨 온도로 변환하여 변수 celsius에 저장합니다.\n",
        "\n",
        "print(celsius)  # 변환된 섭씨 온도를 출력합니다."
      ],
      "metadata": {
        "colab": {
          "base_uri": "https://localhost:8080/"
        },
        "id": "K0EpRfTCzbuj",
        "outputId": "e105c324-48f5-4d0f-cef5-4754483f7bb9"
      },
      "execution_count": null,
      "outputs": [
        {
          "output_type": "stream",
          "name": "stdout",
          "text": [
            "화씨를 입력하시오.: 100\n",
            "37.77777777777778\n"
          ]
        }
      ]
    },
    {
      "cell_type": "markdown",
      "source": [
        "위 코드는 사용자로부터 입력받은 화씨 온도를 섭씨 온도로 변환하여 출력하는 코드입니다.\n",
        "\n",
        "사용자에게 화씨 온도를 입력하라는 안내 메시지를 출력합니다.\n",
        "사용자로부터 화씨 온도를 입력받아 정수로 변환하여 fahrenheit 변수에 저장합니다.\n",
        "입력받은 화씨 온도를 섭씨 온도로 변환하기 위해 (fahrenheit - 32) / 1.8를 계산하여 celsius 변수에 저장합니다.\n",
        "변환된 섭씨 온도를 출력합니다."
      ],
      "metadata": {
        "id": "t2BaVOFGtvYp"
      }
    },
    {
      "cell_type": "code",
      "source": [
        "celsius = float(input(\"섭씨를 입력하시오.:\"))  # 사용자로부터 섭씨 온도를 입력받아 실수로 변환하여 변수 celsius에 저장합니다.\n",
        "\n",
        "fahrenheit = celsius * 1.8 + 32  # 입력받은 섭씨 온도를 화씨 온도로 변환하여 변수 fahrenheit에 저장합니다.\n",
        "\n",
        "print(fahrenheit)  # 변환된 화씨 온도를 출력합니다."
      ],
      "metadata": {
        "colab": {
          "base_uri": "https://localhost:8080/"
        },
        "id": "o9T1MH3H0NK0",
        "outputId": "042152cb-194c-4379-d5ef-d926774da338"
      },
      "execution_count": null,
      "outputs": [
        {
          "output_type": "stream",
          "name": "stdout",
          "text": [
            "섭씨를 입력하시오.:37.77777777777778\n",
            "100.0\n"
          ]
        }
      ]
    },
    {
      "cell_type": "markdown",
      "source": [
        "위 코드는 사용자로부터 입력받은 섭씨 온도를 화씨 온도로 변환하여 출력하는 코드입니다.\n",
        "\n",
        "사용자에게 섭씨 온도를 입력하라는 안내 메시지를 출력합니다.\n",
        "사용자로부터 섭씨 온도를 입력받아 실수로 변환하여 celsius 변수에 저장합니다.\n",
        "입력받은 섭씨 온도를 화씨 온도로 변환하기 위해 celsius * 1.8 + 32를 계산하여 fahrenheit 변수에 저장합니다.\n",
        "변환된 화씨 온도를 출력합니다."
      ],
      "metadata": {
        "id": "kQHiOFsouLjb"
      }
    }
  ]
}